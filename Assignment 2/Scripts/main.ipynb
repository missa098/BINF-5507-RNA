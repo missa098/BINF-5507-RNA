{
 "cells": [
  {
   "cell_type": "code",
   "execution_count": null,
   "metadata": {},
   "outputs": [
    {
     "data": {
      "text/plain": [
       "(920, 15)"
      ]
     },
     "execution_count": 22,
     "metadata": {},
     "output_type": "execute_result"
    }
   ],
   "source": [
    "import pandas as pd\n",
    "\n",
    "#Load the dataset\n",
    "file_path = \"../Data/heart_disease_uci.csv\"  # Adjust the path if needed\n",
    "df = pd.read_csv(file_path)\n",
    "\n",
    "#Display basic info\n",
    "print(df.info())\n",
    "df.describe()\n",
    "df.head()\n",
    "df.shape"
   ]
  },
  {
   "cell_type": "code",
   "execution_count": 30,
   "metadata": {},
   "outputs": [
    {
     "name": "stdout",
     "output_type": "stream",
     "text": [
      "age           0\n",
      "sex           0\n",
      "dataset       0\n",
      "cp            0\n",
      "trestbps     59\n",
      "chol         30\n",
      "fbs          90\n",
      "restecg       2\n",
      "thalch       55\n",
      "exang        55\n",
      "oldpeak      62\n",
      "slope       309\n",
      "ca          611\n",
      "thal        486\n",
      "num           0\n",
      "dtype: int64\n"
     ]
    },
    {
     "name": "stderr",
     "output_type": "stream",
     "text": [
      "/var/folders/5z/qnp61f1960z4thyjbcs935hc0000gn/T/ipykernel_66698/2522066713.py:16: FutureWarning: Downcasting object dtype arrays on .fillna, .ffill, .bfill is deprecated and will change in a future version. Call result.infer_objects(copy=False) instead. To opt-in to the future behavior, set `pd.set_option('future.no_silent_downcasting', True)`\n",
      "  df['fbs'] = df['fbs'].fillna(df['fbs'].mode()[0])\n",
      "/var/folders/5z/qnp61f1960z4thyjbcs935hc0000gn/T/ipykernel_66698/2522066713.py:18: FutureWarning: Downcasting object dtype arrays on .fillna, .ffill, .bfill is deprecated and will change in a future version. Call result.infer_objects(copy=False) instead. To opt-in to the future behavior, set `pd.set_option('future.no_silent_downcasting', True)`\n",
      "  df['exang'] = df['exang'].fillna(df['exang'].mode()[0])\n"
     ]
    }
   ],
   "source": [
    "#Maybe we should clean the data set first\n",
    "\n",
    "#Checking for missing values  \n",
    "print(df.isnull().sum())\n",
    "\n",
    "#Drop columns with too many missing values\n",
    "df = df.drop(columns=['ca', 'thal', 'slope'])\n",
    "\n",
    "#Fill missing values in numerical columns with the median\n",
    "df['trestbps'] = df['trestbps'].fillna(df['trestbps'].median())\n",
    "df['chol'] = df['chol'].fillna(df['chol'].median())\n",
    "df['thalch'] = df['thalch'].fillna(df['thalch'].median())\n",
    "df['oldpeak'] = df['oldpeak'].fillna(df['oldpeak'].median())\n",
    "\n",
    "#Fill missing values in categorical columns with the mode (most frequent value)\n",
    "df['fbs'] = df['fbs'].fillna(df['fbs'].mode()[0])\n",
    "df['restecg'] = df['restecg'].fillna(df['restecg'].mode()[0])\n",
    "df['exang'] = df['exang'].fillna(df['exang'].mode()[0])\n",
    "\n",
    "#Dropping any duplicate rows if there are any\n",
    "df = df.drop_duplicates()"
   ]
  },
  {
   "cell_type": "code",
   "execution_count": 31,
   "metadata": {},
   "outputs": [
    {
     "name": "stdout",
     "output_type": "stream",
     "text": [
      "(734, 10)\n",
      "(184, 10)\n"
     ]
    }
   ],
   "source": [
    "#First I'll prepare the data for regression \n",
    "from sklearn.model_selection import train_test_split\n",
    "#Define the features (X) and the target (y)\n",
    "\n",
    "X = df.drop(columns=['chol', 'num']) #Here we're excluding 'chol' and 'num'\n",
    "y = df['chol']  #Target variable for regression\n",
    "\n",
    "# Split data into training and testing sets (80% train, 20% test)\n",
    "X_train, X_test, y_train, y_test = train_test_split(X, y, test_size=0.2, random_state=42)\n",
    "\n",
    "print(X_train.shape)\n",
    "print(X_test.shape)"
   ]
  },
  {
   "cell_type": "code",
   "execution_count": 34,
   "metadata": {},
   "outputs": [
    {
     "name": "stdout",
     "output_type": "stream",
     "text": [
      "age                           int64\n",
      "trestbps                    float64\n",
      "fbs                            bool\n",
      "thalch                      float64\n",
      "exang                          bool\n",
      "oldpeak                     float64\n",
      "sex_Male                       bool\n",
      "dataset_Hungary                bool\n",
      "dataset_Switzerland            bool\n",
      "dataset_VA Long Beach          bool\n",
      "cp_atypical angina             bool\n",
      "cp_non-anginal                 bool\n",
      "cp_typical angina              bool\n",
      "restecg_normal                 bool\n",
      "restecg_st-t abnormality       bool\n",
      "dtype: object\n",
      "     age  trestbps    fbs  thalch  exang  oldpeak  sex_Male  dataset_Hungary  \\\n",
      "796   49     130.0  False   145.0  False      3.0      True            False   \n",
      "25    50     120.0  False   158.0  False      1.6     False            False   \n",
      "84    52     120.0  False   172.0  False      0.2      True            False   \n",
      "10    57     140.0  False   148.0  False      0.4      True            False   \n",
      "344   40     140.0  False   172.0  False      0.0      True             True   \n",
      "\n",
      "     dataset_Switzerland  dataset_VA Long Beach  cp_atypical angina  \\\n",
      "796                False                   True               False   \n",
      "25                 False                  False               False   \n",
      "84                 False                  False                True   \n",
      "10                 False                  False               False   \n",
      "344                False                  False                True   \n",
      "\n",
      "     cp_non-anginal  cp_typical angina  restecg_normal  \\\n",
      "796           False               True           False   \n",
      "25             True              False            True   \n",
      "84            False              False            True   \n",
      "10            False              False            True   \n",
      "344           False              False            True   \n",
      "\n",
      "     restecg_st-t abnormality  \n",
      "796                      True  \n",
      "25                      False  \n",
      "84                      False  \n",
      "10                      False  \n",
      "344                     False  \n"
     ]
    }
   ],
   "source": [
    "#Checking to see if there are categorical features\n",
    "# print(X_train.dtypes)\n",
    "\n",
    "#There are so we will convert to numerical using one-hot encoding\n",
    "X_train = pd.get_dummies(X_train, drop_first=True)\n",
    "X_test = pd.get_dummies(X_test, drop_first=True)\n",
    "\n",
    "# Ensure both train and test sets have the same columns\n",
    "X_train, X_test = X_train.align(X_test, join='left', axis=1, fill_value=0)\n",
    "\n",
    "# Verify that all columns are now numerical\n",
    "print(X_train.dtypes)\n",
    "print(X_train.head())"
   ]
  },
  {
   "cell_type": "code",
   "execution_count": 37,
   "metadata": {},
   "outputs": [
    {
     "name": "stdout",
     "output_type": "stream",
     "text": [
      "0.5449974706704088\n",
      "74.11363218602817\n"
     ]
    }
   ],
   "source": [
    "#trying to get the best line!\n",
    "#Next I'll train and evaluate Elasticnet Regression \n",
    "from sklearn.linear_model import ElasticNet\n",
    "from sklearn.metrics import mean_squared_error, r2_score\n",
    "import numpy as np\n",
    "\n",
    "#defining the hyperparameters\n",
    "alpha = 0.1  # Regularization strength\n",
    "l1_ratio = 0.5  # Balance between L1 and L2 (0 = Ridge, 1 = Lasso)\n",
    "\n",
    "#train ElasticNet model\n",
    "elastic_net = ElasticNet(alpha=alpha, l1_ratio=l1_ratio, random_state=42)\n",
    "elastic_net.fit(X_train, y_train)\n",
    "\n",
    "#predictions\n",
    "y_pred = elastic_net.predict(X_test)\n",
    "\n",
    "#evaluating the model\n",
    "r2 = r2_score(y_test, y_pred)\n",
    "rmse = np.sqrt(mean_squared_error(y_test, y_pred))\n",
    "\n",
    "print(r2)\n",
    "print(rmse)"
   ]
  },
  {
   "cell_type": "code",
   "execution_count": 36,
   "metadata": {},
   "outputs": [
    {
     "data": {
      "image/png": "[encoded data removed]",
      "text/plain": [
       "<Figure size 800x600 with 2 Axes>"
      ]
     },
     "metadata": {},
     "output_type": "display_data"
    }
   ],
   "source": [
    "import matplotlib.pyplot as plt\n",
    "import seaborn as sns\n",
    "\n",
    "#Okay now we'll create a heatmap to identify the top-performing configuration based on the evaluation metrics\n",
    "\n",
    "#different hyperparameter ranges\n",
    "alphas = [0.001, 0.01, 0.1, 1, 10]\n",
    "l1_ratios = [0.1, 0.5, 0.9]\n",
    "\n",
    "#store the results\n",
    "results = []\n",
    "\n",
    "for alpha in alphas:\n",
    "    for l1_ratio in l1_ratios:\n",
    "        model = ElasticNet(alpha=alpha, l1_ratio=l1_ratio, random_state=42)\n",
    "        model.fit(X_train, y_train)\n",
    "        y_pred = model.predict(X_test)\n",
    "        r2 = r2_score(y_test, y_pred)\n",
    "        rmse = np.sqrt(mean_squared_error(y_test, y_pred))\n",
    "        results.append((alpha, l1_ratio, r2, rmse))\n",
    "\n",
    "#convert into DF\n",
    "results_df = pd.DataFrame(results, columns=['alpha', 'l1_ratio', 'R²', 'RMSE'])\n",
    "\n",
    "#heatmap\n",
    "pivot_table = results_df.pivot(index='l1_ratio', columns='alpha', values='R²')\n",
    "\n",
    "#plotting the heatmap\n",
    "plt.figure(figsize=(8, 6))\n",
    "sns.heatmap(pivot_table, annot=True, cmap='coolwarm', fmt=\".4f\", linewidths=0.5)\n",
    "plt.title(\"R² Score Heatmap for ElasticNet Hyperparameters\")\n",
    "plt.xlabel(\"Alpha\")\n",
    "plt.ylabel(\"L1 Ratio\")\n",
    "plt.show()"
   ]
  },
  {
   "cell_type": "code",
   "execution_count": 38,
   "metadata": {},
   "outputs": [
    {
     "name": "stdout",
     "output_type": "stream",
     "text": [
      "0.6004839312457372\n",
      "69.4477721236744\n"
     ]
    }
   ],
   "source": [
    "#Training the final ElasticNet model using the best hyperparameters determined from the heatmap \n",
    "best_alpha = 0.001\n",
    "best_l1_ratio = 0.9\n",
    "\n",
    "final_model = ElasticNet(alpha=best_alpha, l1_ratio=best_l1_ratio, random_state=42)\n",
    "final_model.fit(X_train, y_train)\n",
    "\n",
    "\n",
    "y_pred_final = final_model.predict(X_test)\n",
    "\n",
    "#evaluating the final model\n",
    "final_r2 = r2_score(y_test, y_pred_final)\n",
    "final_rmse = np.sqrt(mean_squared_error(y_test, y_pred_final))\n",
    "\n",
    "print(final_r2)\n",
    "print(final_rmse)\n",
    "\n",
    "#the top-performing configuration based on the evaluation metrics are when alpha is 0.001 and the l1 ration is 0.9"
   ]
  },
  {
   "cell_type": "code",
   "execution_count": null,
   "metadata": {},
   "outputs": [],
   "source": [
    "#classification task "
   ]
  }
 ],
 "metadata": {
  "kernelspec": {
   "display_name": "base",
   "language": "python",
   "name": "python3"
  },
  "language_info": {
   "codemirror_mode": {
    "name": "ipython",
    "version": 3
   },
   "file_extension": ".py",
   "mimetype": "text/x-python",
   "name": "python",
   "nbconvert_exporter": "python",
   "pygments_lexer": "ipython3",
   "version": "3.12.7"
  }
 },
 "nbformat": 4,
 "nbformat_minor": 2
}
